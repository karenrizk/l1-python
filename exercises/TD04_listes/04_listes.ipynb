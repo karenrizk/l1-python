{
 "cells": [
  {
   "cell_type": "markdown",
   "source": [
    "# TD 4: Listes"
   ],
   "metadata": {}
  },
  {
   "cell_type": "markdown",
   "source": [
    "---\n",
    "\n",
    "## 1. Débuts avec les listes\n",
    "\n",
    "Dans cette partie, il faut écrire les réponses directement dans le notebook. En plus du cours, n'hésitez pas à consulter la documentation (tutoriel) Python sur les listes [ici (introduction aux listes)](https://docs.python.org/fr/3.6/tutorial/introduction.html#lists) et [ici (complément sur les listes)] (https://docs.python.org/fr/3/tutorial/datastructures.html#more-on-lists).\n",
    "\n",
    "1. Créer la liste `3, 5, 10`, l'affecter à une variable, puis l'afficher."
   ],
   "metadata": {}
  },
  {
   "cell_type": "code",
   "execution_count": 123,
   "source": [
    "Chiffre=[3,5,10]\n",
    "Chiffre"
   ],
   "outputs": [
    {
     "output_type": "execute_result",
     "data": {
      "text/plain": [
       "[3, 5, 10]"
      ]
     },
     "metadata": {},
     "execution_count": 123
    }
   ],
   "metadata": {}
  },
  {
   "cell_type": "markdown",
   "source": [
    "2. Ajouter ensuite 12 et 17 à la fin puis afficher à nouveau la liste."
   ],
   "metadata": {}
  },
  {
   "cell_type": "code",
   "execution_count": 124,
   "source": [
    "Chiffre.append(12)\n",
    "Chiffre.append(17)\n",
    "Chiffre"
   ],
   "outputs": [
    {
     "output_type": "execute_result",
     "data": {
      "text/plain": [
       "[3, 5, 10, 12, 17]"
      ]
     },
     "metadata": {},
     "execution_count": 124
    }
   ],
   "metadata": {}
  },
  {
   "cell_type": "markdown",
   "source": [
    "3. Changer le 10 en -7."
   ],
   "metadata": {}
  },
  {
   "cell_type": "code",
   "execution_count": 125,
   "source": [
    "Chiffre[2]=-7\n",
    "Chiffre\n"
   ],
   "outputs": [
    {
     "output_type": "execute_result",
     "data": {
      "text/plain": [
       "[3, 5, -7, 12, 17]"
      ]
     },
     "metadata": {},
     "execution_count": 125
    }
   ],
   "metadata": {}
  },
  {
   "cell_type": "markdown",
   "source": [
    "4. Avec une boucle `for`, écrire le double de chaque élément de la liste. Cela doit afficher `[6, 10, -14, 24, 34]`. La liste doit être modifiée."
   ],
   "metadata": {}
  },
  {
   "cell_type": "code",
   "execution_count": 126,
   "source": [
    "for i in range (0,5):\n",
    "    Chiffre[i]=Chiffre[i]*2\n",
    "print(Chiffre)   \n"
   ],
   "outputs": [
    {
     "output_type": "stream",
     "name": "stdout",
     "text": [
      "[6, 10, -14, 24, 34]\n"
     ]
    }
   ],
   "metadata": {}
  },
  {
   "cell_type": "markdown",
   "source": [
    "5. A l'aide d'une boucle `for`, ajouter  la valeur `i` à l'élément d'indice `i` de la liste. Cela doit afficher `[6, 11, -12, 27, 38]`. La liste doit être modifiée."
   ],
   "metadata": {}
  },
  {
   "cell_type": "code",
   "execution_count": 127,
   "source": [
    "for i in range (1,5):\n",
    "    Chiffre[i]+=i\n",
    "print(Chiffre)   \n"
   ],
   "outputs": [
    {
     "output_type": "stream",
     "name": "stdout",
     "text": [
      "[6, 11, -12, 27, 38]\n"
     ]
    }
   ],
   "metadata": {}
  },
  {
   "cell_type": "markdown",
   "source": [
    "6. Tirer 10 nombres à 2 chiffres au hasard et les mettre dans une nouvelle liste (vide au départ), puis afficher la somme des entiers de la liste et le plus grand de ces entiers."
   ],
   "metadata": {}
  },
  {
   "cell_type": "code",
   "execution_count": 128,
   "source": [
    "import random\n",
    "l=[]\n",
    "for i in range (0,10):\n",
    "    l.append(random.randint(10,99))\n",
    "print(l)\n",
    "print(max(l))\n",
    "print(sum(l))\n",
    "   \n",
    "\n"
   ],
   "outputs": [
    {
     "output_type": "stream",
     "name": "stdout",
     "text": [
      "[44, 72, 92, 81, 26, 11, 92, 43, 39, 36]\n",
      "92\n",
      "536\n"
     ]
    }
   ],
   "metadata": {}
  },
  {
   "cell_type": "markdown",
   "source": [
    "7. A partir de la liste choisie au hasard, créer une liste qui contient les éléments pairs et une deuxième liste qui contient les éléments impairs."
   ],
   "metadata": {}
  },
  {
   "cell_type": "code",
   "execution_count": 129,
   "source": [
    "L1=sorted(l)\n",
    "paire=[]\n",
    "impaire=[]\n",
    "for i in L1: \n",
    "    if i% 2==0:\n",
    "        paire.append(i)\n",
    "    else:\n",
    "        impaire.append(i)\n",
    "print(paire)\n",
    "print(impaire )           "
   ],
   "outputs": [
    {
     "output_type": "stream",
     "name": "stdout",
     "text": [
      "[26, 36, 44, 72, 92, 92]\n",
      "[11, 39, 43, 81]\n"
     ]
    }
   ],
   "metadata": {}
  },
  {
   "cell_type": "markdown",
   "source": [
    "8. Trier la liste choisie au hasard par ordre croissant en modifiant la liste."
   ],
   "metadata": {}
  },
  {
   "cell_type": "code",
   "execution_count": 130,
   "source": [
    "trier=sorted(l)\n",
    "print(trier)"
   ],
   "outputs": [
    {
     "output_type": "stream",
     "name": "stdout",
     "text": [
      "[11, 26, 36, 39, 43, 44, 72, 81, 92, 92]\n"
     ]
    }
   ],
   "metadata": {}
  },
  {
   "cell_type": "markdown",
   "source": [
    "9. Supprimer le plus petit et le plus grand élément de la liste triée."
   ],
   "metadata": {}
  },
  {
   "cell_type": "code",
   "execution_count": 131,
   "source": [
    "trier.remove(min(trier))\n",
    "trier.remove(max(trier))\n",
    "print (trier)"
   ],
   "outputs": [
    {
     "output_type": "stream",
     "name": "stdout",
     "text": [
      "[26, 36, 39, 43, 44, 72, 81, 92]\n"
     ]
    }
   ],
   "metadata": {}
  },
  {
   "cell_type": "markdown",
   "source": [
    "10. Créer la liste des entiers de 1 jusqu'à 52. Ces entiers représentent les cartes d'un paquet de 52 cartes."
   ],
   "metadata": {}
  },
  {
   "cell_type": "code",
   "execution_count": 132,
   "source": [
    "jeu_de_carte=[i for i in range (1,53)]\n",
    "print(jeu_de_carte)"
   ],
   "outputs": [
    {
     "output_type": "stream",
     "name": "stdout",
     "text": [
      "[1, 2, 3, 4, 5, 6, 7, 8, 9, 10, 11, 12, 13, 14, 15, 16, 17, 18, 19, 20, 21, 22, 23, 24, 25, 26, 27, 28, 29, 30, 31, 32, 33, 34, 35, 36, 37, 38, 39, 40, 41, 42, 43, 44, 45, 46, 47, 48, 49, 50, 51, 52]\n"
     ]
    }
   ],
   "metadata": {}
  },
  {
   "cell_type": "markdown",
   "source": [
    " 11. Couper le jeu de carte revient à choisir un indice `i` entre 0 et 51, et à passer toutes les cartes allant des indices 0 à i-1 à la suite des cartes qui vont des indices i à 51. Ecrire le code qui effectue une coupe choisie au hasard."
   ],
   "metadata": {}
  },
  {
   "cell_type": "code",
   "execution_count": 133,
   "source": [
    "import random\n",
    "x=random.randint(1,51)\n",
    "Coupe_1=jeu_de_carte[0:x]\n",
    "Coupe_2=jeu_de_carte[x:52]\n",
    "print(Coupe_2)\n",
    "print(Coupe_1)\n",
    "print(x)"
   ],
   "outputs": [
    {
     "output_type": "stream",
     "name": "stdout",
     "text": [
      "[37, 38, 39, 40, 41, 42, 43, 44, 45, 46, 47, 48, 49, 50, 51, 52]\n",
      "[1, 2, 3, 4, 5, 6, 7, 8, 9, 10, 11, 12, 13, 14, 15, 16, 17, 18, 19, 20, 21, 22, 23, 24, 25, 26, 27, 28, 29, 30, 31, 32, 33, 34, 35, 36]\n",
      "36\n"
     ]
    }
   ],
   "metadata": {}
  },
  {
   "cell_type": "markdown",
   "source": [
    "---\n",
    "\n",
    "## 2. Problème de Syracuse\n",
    "\n",
    "Cette partie est à traiter dans un script que vous pouvez appeler, par exemple, `syracuse.py`.\n",
    "\n",
    "En partant d'un entier `n` de départ, on définit une suite d'entiers en obtenant chaque nouveau terme à partir du précédent soit en le divisant par 2 s'il est pair, soit en le multipliant par 3 et en ajoutant 1 s'il est impair. \n",
    "\n",
    "1. Sans écrire de programme, calculer les premières valeurs de la suite en chosissant `n = 3`.\n",
    "\n",
    "2. Ecrire la fonction qui, à partir d'un entier initial, renvoie la liste des valeurs successives jusqu'à ce que la valeur `1` soit atteinte (le dernier élément de la liste est donc toujours 1)."
   ],
   "metadata": {}
  },
  {
   "cell_type": "code",
   "execution_count": 145,
   "source": [
    "\n",
    "\n",
    "def syracuse(n):\n",
    "    \n",
    "    \"\"\" Retourne la liste des valeurs de la suite en partant de n jusqu'à 1\"\"\"\n",
    "\n",
    "print(syracuse(3))"
   ],
   "outputs": [
    {
     "output_type": "stream",
     "name": "stdout",
     "text": [
      "None\n"
     ]
    }
   ],
   "metadata": {}
  },
  {
   "cell_type": "code",
   "execution_count": 146,
   "source": [
    "n=3\n",
    "\n",
    "def syracuse(n):\n",
    "    liste=[]\n",
    "    while n!=1:\n",
    "        if n%2==0:\n",
    "            n=n//2\n",
    "        else:\n",
    "            n=n*3+1\n",
    "        liste.append(n)\n",
    "    return liste \n",
    "\n",
    "\n",
    "print(syracuse(3))"
   ],
   "outputs": [
    {
     "output_type": "stream",
     "name": "stdout",
     "text": [
      "[10, 5, 16, 8, 4, 2, 1]\n"
     ]
    }
   ],
   "metadata": {}
  },
  {
   "cell_type": "markdown",
   "source": [
    "3. La conjecture de Collatz (ou problème de Syracuse) affirme que, quel que soit l’entier `n` que l’on choisisse au départ, on finit toujours par arriver à 1 (ce résultat est une *conjecture*, c'est-à-dire qu'il n'a pas été démontré, mais qu'il n'existe pas de contre-exemple connu). Écrire une fonction qui, en appelant la fonction précédente, va vérifier si la conjecture est vraie pour `n` de 1 à `n_max`, où `n_max` est un paramètre de la fonction. \n",
    "\n",
    "*Remarque*: si tout se passe bien, la fonction doit juste se terminer et renvoyer `True` par exemple. Sinon, c’est qu’on sera entré dans une boucle infinie."
   ],
   "metadata": {}
  },
  {
   "cell_type": "code",
   "execution_count": 147,
   "source": [
    "def testeConjecture(n_max):\n",
    "    for i in range (2,n_max):\n",
    "        syracuse(i)\n",
    "    return True     \n",
    "#   \n",
    "\n",
    "print(testeConjecture(10000))"
   ],
   "outputs": [
    {
     "output_type": "stream",
     "name": "stdout",
     "text": [
      "True\n"
     ]
    }
   ],
   "metadata": {
    "tags": []
   }
  },
  {
   "cell_type": "markdown",
   "source": [
    "4. On appelle *temps de vol* de l’entier `n` le nombre d’étapes pour aller de `n` jusqu’à 1. Le temps de vol de 1 est 0, le temps de vol de 3 est 7. Écrire une fonction qui, étant donné un paramètre `n`, renvoie son temps de vol."
   ],
   "metadata": {}
  },
  {
   "cell_type": "code",
   "execution_count": 148,
   "source": [
    "def tempsVol(n):\n",
    "   return(len(syracuse(n)))   \n",
    "   \n",
    "\n",
    "print(\"Le temps de vol de\", 3, \"est\", tempsVol(3))"
   ],
   "outputs": [
    {
     "output_type": "stream",
     "name": "stdout",
     "text": [
      "Le temps de vol de 3 est 7\n"
     ]
    }
   ],
   "metadata": {}
  },
  {
   "cell_type": "markdown",
   "source": [
    "5. Ecrire une fonction qui, étant donné un paramètre `n_max` renvoie la liste des temps de vol de tous les entiers de 1 à `n_max`. *Indication*: utiliser une liste en compréhension."
   ],
   "metadata": {}
  },
  {
   "cell_type": "code",
   "execution_count": 149,
   "source": [
    "def tempsVolListe(n_max):\n",
    "    temps_de_vol=[]\n",
    "    for a in range (1,n_max):\n",
    "        temps_de_vol.append(tempsVol(a))\n",
    "        \n",
    "    return temps_de_vol     \n",
    "        \n",
    "print(tempsVolListe(100))"
   ],
   "outputs": [
    {
     "output_type": "stream",
     "name": "stdout",
     "text": [
      "[0, 1, 7, 2, 5, 8, 16, 3, 19, 6, 14, 9, 9, 17, 17, 4, 12, 20, 20, 7, 7, 15, 15, 10, 23, 10, 111, 18, 18, 18, 106, 5, 26, 13, 13, 21, 21, 21, 34, 8, 109, 8, 29, 16, 16, 16, 104, 11, 24, 24, 24, 11, 11, 112, 112, 19, 32, 19, 32, 19, 19, 107, 107, 6, 27, 27, 27, 14, 14, 14, 102, 22, 115, 22, 14, 22, 22, 35, 35, 9, 22, 110, 110, 9, 9, 30, 30, 17, 30, 17, 92, 17, 17, 105, 105, 12, 118, 25, 25]\n"
     ]
    }
   ],
   "metadata": {}
  },
  {
   "cell_type": "markdown",
   "source": [
    "6. Déterminer quel entier entre 1 et 10000 a le plus grand temps de vol (réponse 6171 qui a le temps de vol 261)."
   ],
   "metadata": {}
  },
  {
   "cell_type": "code",
   "execution_count": 150,
   "source": [
    "def PlusGrandNombre(n_max):\n",
    "    liste=[]\n",
    "    for n in range (2, n_max+1):\n",
    "        syracuse(n)\n",
    "        liste.append(len(syracuse(n)))\n",
    "        max_nb=max(liste)\n",
    "    return max_nb \n",
    "\n",
    "PlusGrandNombre(10000)       "
   ],
   "outputs": [
    {
     "output_type": "execute_result",
     "data": {
      "text/plain": [
       "261"
      ]
     },
     "metadata": {},
     "execution_count": 150
    }
   ],
   "metadata": {}
  },
  {
   "cell_type": "markdown",
   "source": [
    "7. L’altitude maximale de l'entier `n` est la plus grande valeur par laquelle passe `n` au cours de son vol. Déterminer quel entier entre 1 et 10000 a la plus grande altitude maximale (réponse 27114424, atteint par l'entier 9663). Ne pas hésiter à écrire de nouvelles fonctions pour cela."
   ],
   "metadata": {}
  },
  {
   "cell_type": "code",
   "execution_count": 152,
   "source": [
    "def PlusGrandNombre (n_max):\n",
    "    liste=[]\n",
    "    for i in range (2, n_max+1):\n",
    "        syracuse(n)\n",
    "        liste.append(max(syracuse(n)))\n",
    "        max_nb=max(liste)\n",
    "    return max_nb\n",
    "\n",
    "PlusGrandNombre(10000)"
   ],
   "outputs": [
    {
     "output_type": "execute_result",
     "data": {
      "text/plain": [
       "16"
      ]
     },
     "metadata": {},
     "execution_count": 152
    }
   ],
   "metadata": {}
  },
  {
   "cell_type": "markdown",
   "source": [
    "---\n",
    "\n",
    "## 3. Carré magique\n",
    "\n",
    "*Définition* extraite de [l'article Wikipedia sur le carré magique](https://fr.wikipedia.org/wiki/Carr%C3%A9_magique_(math%C3%A9matiques)): en mathématiques, un carré magique d’ordre $n$ est composé de $n^2$ entiers strictement positifs, écrits sous la forme d’un tableau carré. Ces nombres sont disposés de sorte que leurs sommes sur chaque rangée, sur chaque colonne et sur chaque diagonale principale soient égales. On nomme alors *constante magique* la valeur de ces sommes. \n",
    "\n",
    "Un exemple de carré magique:\n",
    "\n",
    "$$\\begin{bmatrix} 4 & 14 & 15 & 1 \\\\ 9 & 7 & 6 & 12 \\\\ 5 & 11 & 10 & 8 \\\\ 16 & 2 & 3 & 13 \\end{bmatrix}$$\n",
    "\n",
    "1. Sans écrire de programme, vérifier qu'il s'agit bien d'un carré magique, et donner sa constante magique.\n",
    "\n",
    "Les questions qui suivent doivent être traitées dans un script, qui peut s'appeler `carre_magique.py`. Pensez à utiliser [PythonTutor](http://pythontutor.com/) et les outils de programmation pour résoudre les problèmes qui pourraient survenir.\n",
    "\n",
    "2. Créer une liste à deux dimensions affectée à  la variable `carre_mag` contenant ce carré magique."
   ],
   "metadata": {}
  },
  {
   "cell_type": "markdown",
   "source": [
    "3. Créer une deuxième liste affectée à la variable `carre_pas_mag` qui ne soit pas magique à partir du carré magique en changeant le 3 en 7. "
   ],
   "metadata": {}
  },
  {
   "cell_type": "markdown",
   "source": [
    "4. Créer une fonction qui affiche la liste comme un carré."
   ],
   "metadata": {}
  },
  {
   "cell_type": "code",
   "execution_count": 160,
   "source": [
    "carre_mag=[[4,14,15,1],[9,7,6,12],[5,11,10,8],[16,2,3,13]]\n",
    "carre_pas_mag=[[4,14,15,1],[9,7,6,12],[5,11,10,8],[16,2,7,13]]\n",
    "\n",
    "\n",
    "def afficheCarre(carre):\n",
    "    for i in carre:\n",
    "        print(i)\n",
    "\n",
    "  \n",
    "\n",
    "afficheCarre(carre_mag)\n",
    "print(\" \")\n",
    "afficheCarre(carre_pas_mag)\n"
   ],
   "outputs": [
    {
     "output_type": "stream",
     "name": "stdout",
     "text": [
      "[4, 14, 15, 1]\n",
      "[9, 7, 6, 12]\n",
      "[5, 11, 10, 8]\n",
      "[16, 2, 3, 13]\n",
      " \n",
      "[4, 14, 15, 1]\n",
      "[9, 7, 6, 12]\n",
      "[5, 11, 10, 8]\n",
      "[16, 2, 7, 13]\n"
     ]
    }
   ],
   "metadata": {}
  },
  {
   "cell_type": "markdown",
   "source": [
    "5. Ecrire une fonction qui teste si les lignes du carré ont toutes la même somme. Cette fonction renvoie cette somme si c'est le cas, et `-1` sinon."
   ],
   "metadata": {}
  },
  {
   "cell_type": "code",
   "execution_count": 171,
   "source": [
    "def testLignesEgales(carre):\n",
    "    s=sum(carre[0])\n",
    "    for i in range(1,len(carre)):\n",
    "        if sum (carre[i])!=s:\n",
    "            return -1\n",
    "    return s          \n",
    "\n",
    "\n",
    "\n",
    "print(testLignesEgales(carre_mag))\n",
    "print(testLignesEgales(carre_pas_mag))\n"
   ],
   "outputs": [
    {
     "output_type": "stream",
     "name": "stdout",
     "text": [
      "34\n",
      "-1\n"
     ]
    }
   ],
   "metadata": {}
  },
  {
   "cell_type": "markdown",
   "source": [
    "6. Même question mais en testant les colonnes."
   ],
   "metadata": {}
  },
  {
   "cell_type": "code",
   "execution_count": 173,
   "source": [
    "def testColonnesEgales(carre):\n",
    "    l0=[carre[i][0] for i in range (len(carre))]\n",
    "    s=sum(l0)\n",
    "\n",
    "    for j in range (1,len(carre)):\n",
    "        l=[carre[i][j]for i in range(len(carre))]\n",
    "    if sum(l)!=s:\n",
    "        return -1\n",
    "    return s   \n",
    "    \n",
    "print(testColonnesEgales(carre_mag))\n",
    "print(testColonnesEgales(carre_pas_mag))"
   ],
   "outputs": [
    {
     "output_type": "stream",
     "name": "stdout",
     "text": [
      "34\n",
      "34\n"
     ]
    }
   ],
   "metadata": {}
  },
  {
   "cell_type": "markdown",
   "source": [
    "7. Même question mais en testant les 2 diagonales."
   ],
   "metadata": {}
  },
  {
   "cell_type": "code",
   "execution_count": 175,
   "source": [
    "\n",
    "\n",
    "def testDiagonalesEgales(carre):\n",
    "[i][i]for i in range (len(carre))\n",
    "\n",
    "\n",
    "\n",
    "print(testDiagonalesEgales(carre_mag))\n",
    "print(testDiagonalesEgales(carre_pas_mag))"
   ],
   "outputs": [
    {
     "output_type": "error",
     "ename": "IndentationError",
     "evalue": "unexpected indent (1609176328.py, line 3)",
     "traceback": [
      "\u001b[0;36m  File \u001b[0;32m\"/var/folders/3y/h0fp29rs2xs_35b1tjh3gx8r0000gp/T/ipykernel_26336/1609176328.py\"\u001b[0;36m, line \u001b[0;32m3\u001b[0m\n\u001b[0;31m    for i in range(self.dim):\u001b[0m\n\u001b[0m    ^\u001b[0m\n\u001b[0;31mIndentationError\u001b[0m\u001b[0;31m:\u001b[0m unexpected indent\n"
     ]
    }
   ],
   "metadata": {}
  },
  {
   "cell_type": "markdown",
   "source": [
    "8. Créer une fonction qui teste si un carré est magique. Elle retourne `True` si c'est le cas et `False` sinon."
   ],
   "metadata": {}
  },
  {
   "cell_type": "code",
   "execution_count": null,
   "source": [
    "def estCarreMagique(carre):\n",
    "    \"\"\" Renvoie True si c'est un carre magique et False sinon\"\"\"\n",
    "    pass\n",
    "\n",
    "print(estCarreMagique(carre_mag))\n",
    "print(estCarreMagique(carre_pas_mag))"
   ],
   "outputs": [],
   "metadata": {}
  },
  {
   "cell_type": "markdown",
   "source": [
    "9. Un carré d'ordre $n$ est *normal* s'il contient tous les entiers de 1 à $n^2$. Ecrire une fonction qui teste si un carré est normal (pas nécessairement magique)."
   ],
   "metadata": {}
  },
  {
   "cell_type": "code",
   "execution_count": null,
   "source": [
    "def estNormal(carre):\n",
    "    \"\"\" Retourne True si contient toutes les valeurs de 1 à n^2 où n est la taille \n",
    "        du carré, et False sinon \"\"\"\n",
    "    pass\n",
    "\n",
    "print(estNormal(carre_mag))\n",
    "print(estNormal(carre_pas_mag))"
   ],
   "outputs": [],
   "metadata": {}
  }
 ],
 "metadata": {
  "kernelspec": {
   "name": "python3",
   "display_name": "Python 3.9.7 64-bit (conda)"
  },
  "language_info": {
   "codemirror_mode": {
    "name": "ipython",
    "version": 3
   },
   "file_extension": ".py",
   "mimetype": "text/x-python",
   "name": "python",
   "nbconvert_exporter": "python",
   "pygments_lexer": "ipython3",
   "version": "3.9.7"
  },
  "interpreter": {
   "hash": "393b260982e5aac6be617f43fb8b124cdf63bd3c3d5519ab8dfac2f08f868499"
  }
 },
 "nbformat": 4,
 "nbformat_minor": 1
}